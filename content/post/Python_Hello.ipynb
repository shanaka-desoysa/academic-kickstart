{
  "nbformat": 4,
  "nbformat_minor": 0,
  "metadata": {
    "kernelspec": {
      "display_name": "Python 3",
      "language": "python",
      "name": "python3"
    },
    "language_info": {
      "codemirror_mode": {
        "name": "ipython",
        "version": 3
      },
      "file_extension": ".py",
      "mimetype": "text/x-python",
      "name": "python",
      "nbconvert_exporter": "python",
      "pygments_lexer": "ipython3",
      "version": "3.7.6"
    },
    "colab": {
      "name": "Python_Hello.ipynb",
      "provenance": []
    }
  },
  "cells": [
    {
      "cell_type": "markdown",
      "metadata": {
        "id": "1PtFNO9CNI03",
        "colab_type": "text"
      },
      "source": [
        "---\n",
        "date: 2020-05-01\n",
        "title: My first blog post\n",
        "---"
      ]
    },
    {
      "cell_type": "code",
      "metadata": {
        "id": "XhGGJ9l3NI04",
        "colab_type": "code",
        "colab": {},
        "outputId": "92d40f52-6504-4ca0-bac5-4b1aae172e1f"
      },
      "source": [
        "print('Hello World')"
      ],
      "execution_count": 0,
      "outputs": [
        {
          "output_type": "stream",
          "text": [
            "Hello World\n"
          ],
          "name": "stdout"
        }
      ]
    },
    {
      "cell_type": "code",
      "metadata": {
        "id": "RF_bQlQWNI0-",
        "colab_type": "code",
        "colab": {},
        "outputId": "3b728dce-54f2-49e0-e91e-1efbb0d19fd0"
      },
      "source": [
        "1==1"
      ],
      "execution_count": 0,
      "outputs": [
        {
          "output_type": "execute_result",
          "data": {
            "text/plain": [
              "True"
            ]
          },
          "metadata": {
            "tags": []
          },
          "execution_count": 2
        }
      ]
    },
    {
      "cell_type": "code",
      "metadata": {
        "id": "WOoSbTSYNI1B",
        "colab_type": "code",
        "colab": {}
      },
      "source": [
        ""
      ],
      "execution_count": 0,
      "outputs": []
    }
  ]
}